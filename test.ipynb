{
 "cells": [
  {
   "cell_type": "code",
   "execution_count": 1,
   "metadata": {},
   "outputs": [],
   "source": [
    "import pandas as pd"
   ]
  },
  {
   "cell_type": "code",
   "execution_count": 2,
   "metadata": {},
   "outputs": [],
   "source": [
    "df1 = pd.read_excel('Elcor_CableOverview_20230412.xls')"
   ]
  },
  {
   "cell_type": "code",
   "execution_count": 3,
   "metadata": {},
   "outputs": [
    {
     "data": {
      "text/plain": [
       "0           =1FT1.12.6+FT-W1\n",
       "1      =1FT1.12.9+CAB1-E1-W1\n",
       "2      =1FT1.12.9+CAB2-E2-W1\n",
       "3     =1FT1.20.8+PNM-ASU1-W1\n",
       "4      =1FT1.20.8+PNM-KF1-W1\n",
       "               ...          \n",
       "67     =1DF1.66.0+EXT-BG1-W1\n",
       "68     =1DF1.66.0+EXT-BG3-W1\n",
       "69     =1DF1.66.0+EXT-PT1-W1\n",
       "70     =1DF1.66.0+EXT-PT2-W1\n",
       "71     =1DF1.66.0+EXT-PT3-W1\n",
       "Name: Cable Name, Length: 72, dtype: object"
      ]
     },
     "execution_count": 3,
     "metadata": {},
     "output_type": "execute_result"
    }
   ],
   "source": [
    "df1['Cable Name']"
   ]
  }
 ],
 "metadata": {
  "kernelspec": {
   "display_name": "Python 3",
   "language": "python",
   "name": "python3"
  },
  "language_info": {
   "codemirror_mode": {
    "name": "ipython",
    "version": 3
   },
   "file_extension": ".py",
   "mimetype": "text/x-python",
   "name": "python",
   "nbconvert_exporter": "python",
   "pygments_lexer": "ipython3",
   "version": "3.10.6"
  },
  "orig_nbformat": 4
 },
 "nbformat": 4,
 "nbformat_minor": 2
}
